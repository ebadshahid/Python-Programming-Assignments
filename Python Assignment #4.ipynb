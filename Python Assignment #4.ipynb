{
 "cells": [
  {
   "cell_type": "code",
   "execution_count": 6,
   "metadata": {},
   "outputs": [
    {
     "name": "stdout",
     "output_type": "stream",
     "text": [
      "{'first_name': 'Ebad', 'last_name': 'Shahid', 'age': 21, 'city': 'karachi', 'qualification': 'Undergraduate'}\n",
      "{'first_name': 'Ebad', 'last_name': 'Shahid', 'age': 21, 'city': 'karachi'}\n"
     ]
    }
   ],
   "source": [
    "bio_data={\n",
    "    \"first_name\":\"Ebad\",\n",
    "    \"last_name\":\"Shahid\",\n",
    "    \"age\":21,\n",
    "    \"city\":\"karachi\"\n",
    "}\n",
    "#Adding Qualification Key and Value in Above Dictionary.\n",
    "bio_data[\"qualification\"]=\"Undergraduate\"\n",
    "print(bio_data)\n",
    "#Removing qualification which was added above. \n",
    "del bio_data[\"qualification\"]\n",
    "print(bio_data)"
   ]
  },
  {
   "cell_type": "code",
   "execution_count": 34,
   "metadata": {},
   "outputs": [
    {
     "name": "stdout",
     "output_type": "stream",
     "text": [
      "{'country': 'pakistan', 'population': 123, 'fact': 'city of lights'}\n",
      "{'country': 'pakistan', 'population': 1234, 'fact': 'Food street'}\n",
      "{'country': 'pakistan', 'population': 12345, 'fact': 'Capital of pakistan'}\n"
     ]
    }
   ],
   "source": [
    "cities={\n",
    "    \n",
    "    \"karachi\":{\"country\":\"pakistan\",\"population\":123,\"fact\":\"city of lights\"},\n",
    "   \"lahore\":{\"country\":\"pakistan\",\"population\":1234,\"fact\":\"Food street\"},\n",
    "   \"islamabad\":{\"country\":\"pakistan\",\"population\":12345,\"fact\":\"Capital of pakistan\"}\n",
    "    \n",
    "}\n",
    "#Printing Karachi information\n",
    "print(cities[\"karachi\"])\n",
    "#Printing Lahore information\n",
    "print(cities[\"lahore\"])\n",
    "#Printing Islamabad information\n",
    "print(cities[\"islamabad\"])"
   ]
  },
  {
   "cell_type": "code",
   "execution_count": 42,
   "metadata": {},
   "outputs": [
    {
     "name": "stdout",
     "output_type": "stream",
     "text": [
      "Your age? \n",
      "Enter 'quit' when you are finished. 10\n",
      "  Your ticket is $10.\n",
      "Your age? \n",
      "Enter 'quit' when you are finished. 2\n",
      "  You get in free!\n",
      "Your age? \n",
      "Enter 'quit' when you are finished. 50\n",
      "  Your ticket is $15.\n",
      "Your age? \n",
      "Enter 'quit' when you are finished. quit\n"
     ]
    }
   ],
   "source": [
    "message = \"Your age? \"\n",
    "message += \"\\nEnter 'quit' when you are finished. \"\n",
    "while True:\n",
    "    age = input(message)\n",
    "    if age == 'quit':\n",
    "        break\n",
    "    age = int(age)\n",
    "    if age < 3:\n",
    "        print(\"  You get in free!\")\n",
    "    elif age >=3 and age<=12:\n",
    "        print(\"  Your ticket is $10.\")\n",
    "    else:\n",
    "        print(\"  Your ticket is $15.\")"
   ]
  },
  {
   "cell_type": "code",
   "execution_count": 50,
   "metadata": {},
   "outputs": [
    {
     "name": "stdout",
     "output_type": "stream",
     "text": [
      "One of my favorite book is alice in wonderland\n"
     ]
    }
   ],
   "source": [
    "def favorite_book(title):\n",
    "    print(\"One of my favorite book is \"+title)\n",
    "    \n",
    "favorite_book(\"alice in wonderland\")    "
   ]
  },
  {
   "cell_type": "code",
   "execution_count": 6,
   "metadata": {},
   "outputs": [
    {
     "name": "stdout",
     "output_type": "stream",
     "text": [
      "Enter an integer from 1 to 30: 2\n",
      "guess is high\n",
      "Enter an integer from 1 to 99: 5\n",
      "guess is high\n",
      "Enter an integer from 1 to 99: 1\n",
      "you guessed it!\n"
     ]
    }
   ],
   "source": [
    "import random\n",
    "n = random.randint(1, 30)\n",
    "guess = int(input(\"Enter an integer from 1 to 30: \"))\n",
    "while n != \"guess\":\n",
    "    print\n",
    "    if guess < n:\n",
    "        print (\"guess is low\")\n",
    "        guess = int(input(\"Enter an integer from 1 to 99: \"))\n",
    "    elif guess > n:\n",
    "        print (\"guess is high\")\n",
    "        guess = int(input(\"Enter an integer from 1 to 99: \"))\n",
    "    else:\n",
    "        print (\"you guessed it!\")\n",
    "        break\n",
    "    print"
   ]
  }
 ],
 "metadata": {
  "kernelspec": {
   "display_name": "Python 3",
   "language": "python",
   "name": "python3"
  },
  "language_info": {
   "codemirror_mode": {
    "name": "ipython",
    "version": 3
   },
   "file_extension": ".py",
   "mimetype": "text/x-python",
   "name": "python",
   "nbconvert_exporter": "python",
   "pygments_lexer": "ipython3",
   "version": "3.7.4"
  }
 },
 "nbformat": 4,
 "nbformat_minor": 2
}
