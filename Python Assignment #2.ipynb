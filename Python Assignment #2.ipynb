{
 "cells": [
  {
   "cell_type": "code",
   "execution_count": 9,
   "metadata": {},
   "outputs": [
    {
     "name": "stdout",
     "output_type": "stream",
     "text": [
      "Enter Maths Marks? 100\n",
      "Enter English Marks? 100\n",
      "Enter physics Marks? 100\n",
      "Enter chemistry Marks? 100\n",
      "Enter pakistan studies Marks? 100\n",
      "A-ONE Grade\n",
      "Your % is 100.0\n"
     ]
    }
   ],
   "source": [
    "math=int(input(\"Enter Maths Marks? \"))\n",
    "eng=int(input(\"Enter English Marks? \"))\n",
    "phy=int(input(\"Enter physics Marks? \"))\n",
    "chm=int(input(\"Enter chemistry Marks? \"))\n",
    "pst=int(input(\"Enter pakistan studies Marks? \"))\n",
    "sum=math+eng+phy+chm+pst\n",
    "per=(sum/500)*100\n",
    "if per>=80 and per<=100:\n",
    "    print(\"A-ONE Grade\")\n",
    "    print(\"Your % is \"+str(per))\n",
    "elif per>=70 and per<=80:\n",
    "    print(\"A Grade\")\n",
    "    print(\"Your % is \"+str(per))\n",
    "elif per>=60 and per<=70:\n",
    "    print(\"B Grade\")\n",
    "    print(\"Your % is \"+str(per))\n",
    "elif per>=50 and per<=60:\n",
    "    print(\"C Grade\")\n",
    "    print(\"Your % is \"+str(per))\n",
    "elif per>=40 and per<=50:\n",
    "    print(\"D Grade\")\n",
    "    print(\"Your % is \"+str(per))\n",
    "elif per>=0 and per<=40:\n",
    "    print(\"F Grade\")\n",
    "    print(\"Your % is \"+str(per))\n",
    "else:\n",
    "    print(\"Incorrect Percentage. percentage range is 0-100 only\")\n"
   ]
  },
  {
   "cell_type": "code",
   "execution_count": 13,
   "metadata": {},
   "outputs": [
    {
     "name": "stdout",
     "output_type": "stream",
     "text": [
      "Enter a number to check even or odd? 2\n",
      "2 is even Number\n"
     ]
    }
   ],
   "source": [
    "num=int(input(\"Enter a number to check even or odd? \"))\n",
    "if num%2==0:\n",
    "    print(str(num)+\" is even Number\")\n",
    "else:\n",
    "    print(str(num)+\" is odd Number\")"
   ]
  },
  {
   "cell_type": "code",
   "execution_count": 16,
   "metadata": {},
   "outputs": [
    {
     "name": "stdout",
     "output_type": "stream",
     "text": [
      "The length of list is: 11\n"
     ]
    }
   ],
   "source": [
    "a = [1, 1, 2, 3, 5, 8, 13, 21, 34, 55, 89]\n",
    "print (\"The length of list is: \"+str(len(a)))"
   ]
  },
  {
   "cell_type": "code",
   "execution_count": 25,
   "metadata": {},
   "outputs": [
    {
     "name": "stdout",
     "output_type": "stream",
     "text": [
      "Sum of all the numeric items in a list is 10\n"
     ]
    }
   ],
   "source": [
    "squares=[1, 2, 3, 4]\n",
    "sum=0\n",
    "for num in squares:\n",
    "    sum += num\n",
    "print(\"Sum of all the numeric items in a list is \"+str(sum))"
   ]
  },
  {
   "cell_type": "code",
   "execution_count": 3,
   "metadata": {},
   "outputs": [
    {
     "name": "stdout",
     "output_type": "stream",
     "text": [
      "89\n"
     ]
    }
   ],
   "source": [
    "numbers= [1, 1, 2, 3, 5, 8, 13, 21, 34, 55, 89]\n",
    "max=numbers[0]\n",
    "for num in numbers:\n",
    "    if num>max:\n",
    "        max=num    \n",
    "print(max)"
   ]
  },
  {
   "cell_type": "code",
   "execution_count": 19,
   "metadata": {},
   "outputs": [
    {
     "name": "stdout",
     "output_type": "stream",
     "text": [
      "[1, 1, 2, 3]\n"
     ]
    }
   ],
   "source": [
    "a = [1, 1, 2, 3, 5, 8, 13, 21, 34, 55, 89]\n",
    "new_list = []\n",
    "for item in a:\n",
    "    if item < 5:\n",
    "        new_list.append(item)\n",
    "print(new_list)\n",
    "\n",
    "    "
   ]
  }
 ],
 "metadata": {
  "kernelspec": {
   "display_name": "Python 3",
   "language": "python",
   "name": "python3"
  },
  "language_info": {
   "codemirror_mode": {
    "name": "ipython",
    "version": 3
   },
   "file_extension": ".py",
   "mimetype": "text/x-python",
   "name": "python",
   "nbconvert_exporter": "python",
   "pygments_lexer": "ipython3",
   "version": "3.7.4"
  }
 },
 "nbformat": 4,
 "nbformat_minor": 2
}
