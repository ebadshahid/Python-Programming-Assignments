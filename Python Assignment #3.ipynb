{
 "cells": [
  {
   "cell_type": "code",
   "execution_count": 7,
   "metadata": {},
   "outputs": [
    {
     "name": "stdout",
     "output_type": "stream",
     "text": [
      "Enter first number? 5\n",
      "Enter second number? 5\n",
      "Enter which operation u want to perform example: +,-,*,/,^ :^\n",
      "5 ^ 5 = 3125\n"
     ]
    }
   ],
   "source": [
    "n1=int(input(\"Enter first number? \"))\n",
    "n2=int(input(\"Enter second number? \"))\n",
    "op=input(\"Enter which operation u want to perform example: +,-,*,/,^ :\")\n",
    "if op==\"+\":\n",
    "    add=n1+n2\n",
    "    print(str(n1)+\" + \"+str(n2)+\" = \"+str(add))\n",
    "elif op==\"-\":\n",
    "    sub=n1-n2\n",
    "    print(str(n1)+\" - \"+str(n2)+\" = \"+str(sub))\n",
    "elif op==\"*\":\n",
    "    mul=n1*n2\n",
    "    print(str(n1)+\" * \"+str(n2)+\" = \"+str(mul))\n",
    "elif op==\"/\":\n",
    "    div=n1/n2\n",
    "    print(str(n1)+\" / \"+str(n2)+\" = \"+str(div))\n",
    "elif op==\"^\":\n",
    "    power=n1**n2\n",
    "    print(str(n1)+\" ^ \"+str(n2)+\" = \"+str(power))\n",
    "else:\n",
    "    print(\"Sorry wrong selection. pls try again\")"
   ]
  },
  {
   "cell_type": "code",
   "execution_count": 11,
   "metadata": {},
   "outputs": [
    {
     "name": "stdout",
     "output_type": "stream",
     "text": [
      "Enter Numeric value to check in list? 1\n",
      "yes numeric number in list\n",
      "Numeric number not in list\n",
      "Numeric number not in list\n",
      "Numeric number not in list\n",
      "Numeric number not in list\n",
      "Numeric number not in list\n",
      "Numeric number not in list\n",
      "Numeric number not in list\n",
      "Numeric number not in list\n",
      "Numeric number not in list\n"
     ]
    }
   ],
   "source": [
    "values=[1,\"one\",2,\"two\",3,\"three\",4,\"four\",5,\"five\"]\n",
    "compare=values[0]\n",
    "numeric_value_to_check=int(input(\"Enter Numeric value to check in list? \"))\n",
    "for numeric in values:\n",
    "    if numeric==numeric_value_to_check:\n",
    "         print(\"yes numeric number in list\")\n",
    "    else:\n",
    "          print(\"Numeric number not in list\")\n"
   ]
  },
  {
   "cell_type": "code",
   "execution_count": 13,
   "metadata": {},
   "outputs": [
    {
     "name": "stdout",
     "output_type": "stream",
     "text": [
      "{0: 'sohail', 1: 'Ebad'}\n",
      "{0: 'sohail', 1: 'Ebad', 2: 'kamran'}\n"
     ]
    }
   ],
   "source": [
    "names = {0:'sohail', 1:'Ebad'}\n",
    "print(names)\n",
    "names.update({2:'kamran'})\n",
    "print(names)"
   ]
  },
  {
   "cell_type": "code",
   "execution_count": 36,
   "metadata": {},
   "outputs": [
    {
     "name": "stdout",
     "output_type": "stream",
     "text": [
      "30 is the total of values in the list\n"
     ]
    }
   ],
   "source": [
    "d = {\"hello\":10,\n",
    "     \"hi\":20}\n",
    "sum=0\n",
    "for i in d:\n",
    "    sum=sum+d[i]\n",
    "print(str(sum)+\" is the total of values in the list\")"
   ]
  },
  {
   "cell_type": "code",
   "execution_count": 35,
   "metadata": {},
   "outputs": [
    {
     "name": "stdout",
     "output_type": "stream",
     "text": [
      "[1, 2, 3, 4, 5, 9]\n"
     ]
    }
   ],
   "source": [
    "list1 = [1,2,1,3,1,4,1,4,2,5,9]\n",
    "unique = []\n",
    "for ele in list1:\n",
    "    if ele not in unique:\n",
    "        unique.append(ele)\n",
    "print(unique)"
   ]
  },
  {
   "cell_type": "code",
   "execution_count": 31,
   "metadata": {},
   "outputs": [
    {
     "name": "stdout",
     "output_type": "stream",
     "text": [
      "Key is present in the dictionary\n",
      "Key is not present in the dictionary\n"
     ]
    }
   ],
   "source": [
    "d = {1: 10, 2: 20, 3: 30, 4: 40, 5: 50, 6: 60}\n",
    "def is_key_present(x):\n",
    "    if x in d:\n",
    "        print('Key is present in the dictionary')\n",
    "    else:\n",
    "        print('Key is not present in the dictionary')\n",
    "is_key_present(5)\n",
    "is_key_present(9)"
   ]
  }
 ],
 "metadata": {
  "kernelspec": {
   "display_name": "Python 3",
   "language": "python",
   "name": "python3"
  },
  "language_info": {
   "codemirror_mode": {
    "name": "ipython",
    "version": 3
   },
   "file_extension": ".py",
   "mimetype": "text/x-python",
   "name": "python",
   "nbconvert_exporter": "python",
   "pygments_lexer": "ipython3",
   "version": "3.7.4"
  }
 },
 "nbformat": 4,
 "nbformat_minor": 2
}
